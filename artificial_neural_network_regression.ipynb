{
 "cells": [
  {
   "cell_type": "markdown",
   "metadata": {
    "colab_type": "text",
    "id": "3cbb7fRy-eyr"
   },
   "source": [
    "# Artificial Neural Network"
   ]
  },
  {
   "cell_type": "markdown",
   "metadata": {
    "colab_type": "text",
    "id": "8sNDnxE2-pwE"
   },
   "source": [
    "### Importing the libraries"
   ]
  },
  {
   "cell_type": "code",
   "execution_count": 1,
   "metadata": {
    "colab": {},
    "colab_type": "code",
    "id": "lxChR1Rk-umf"
   },
   "outputs": [],
   "source": [
    "import numpy as np\n",
    "import pandas as pd\n",
    "import tensorflow as tf"
   ]
  },
  {
   "cell_type": "code",
   "execution_count": 2,
   "metadata": {
    "colab": {
     "base_uri": "https://localhost:8080/",
     "height": 34
    },
    "colab_type": "code",
    "id": "uBTqR3nacj0e",
    "outputId": "4c0bd183-e424-429a-9fba-ceb841c06888"
   },
   "outputs": [
    {
     "data": {
      "text/plain": [
       "'2.10.0'"
      ]
     },
     "execution_count": 2,
     "metadata": {},
     "output_type": "execute_result"
    }
   ],
   "source": [
    "tf.__version__"
   ]
  },
  {
   "cell_type": "markdown",
   "metadata": {
    "colab_type": "text",
    "id": "AG3FQEch-yuA"
   },
   "source": [
    "## Part 1 - Data Preprocessing"
   ]
  },
  {
   "cell_type": "markdown",
   "metadata": {
    "colab_type": "text",
    "id": "-4zq8Mza_D9O"
   },
   "source": [
    "### Importing the dataset"
   ]
  },
  {
   "cell_type": "code",
   "execution_count": 3,
   "metadata": {
    "colab": {},
    "colab_type": "code",
    "id": "B9CV13Co_HHM"
   },
   "outputs": [],
   "source": [
    "dataset = pd.read_excel('Folds5x2_pp.xlsx')\n",
    "X = dataset.iloc[:, :-1].values\n",
    "y = dataset.iloc[:, -1].values"
   ]
  },
  {
   "cell_type": "markdown",
   "metadata": {
    "colab_type": "text",
    "id": "VC6omXel_Up0"
   },
   "source": [
    "### Splitting the dataset into the Training set and Test set"
   ]
  },
  {
   "cell_type": "code",
   "execution_count": 4,
   "metadata": {
    "colab": {},
    "colab_type": "code",
    "id": "L5edeb2r_agx"
   },
   "outputs": [],
   "source": [
    "from sklearn.model_selection import train_test_split\n",
    "X_train, X_test, y_train, y_test = train_test_split(X, y, test_size = 0.2, random_state = 0)"
   ]
  },
  {
   "cell_type": "markdown",
   "metadata": {
    "colab_type": "text",
    "id": "_mSLlAT9_eyI"
   },
   "source": [
    "## Part 2 - Building the ANN"
   ]
  },
  {
   "cell_type": "markdown",
   "metadata": {
    "colab_type": "text",
    "id": "CsBULd_f_wLY"
   },
   "source": [
    "### Initializing the ANN"
   ]
  },
  {
   "cell_type": "code",
   "execution_count": 5,
   "metadata": {
    "colab": {},
    "colab_type": "code",
    "id": "J6Hd97Ls__Nz"
   },
   "outputs": [],
   "source": [
    "ann = tf.keras.models.Sequential()"
   ]
  },
  {
   "cell_type": "markdown",
   "metadata": {
    "colab_type": "text",
    "id": "iitAFJS_ABUn"
   },
   "source": [
    "### Adding the input layer and the first hidden layer"
   ]
  },
  {
   "cell_type": "code",
   "execution_count": 6,
   "metadata": {
    "colab": {},
    "colab_type": "code",
    "id": "ksO_Vv40AHix"
   },
   "outputs": [],
   "source": [
    "ann.add(tf.keras.layers.Dense(units=6, activation='relu'))"
   ]
  },
  {
   "cell_type": "markdown",
   "metadata": {
    "colab_type": "text",
    "id": "-lb4kK_wAKbs"
   },
   "source": [
    "### Adding the second hidden layer"
   ]
  },
  {
   "cell_type": "code",
   "execution_count": 7,
   "metadata": {
    "colab": {},
    "colab_type": "code",
    "id": "c2357OqEAQOQ"
   },
   "outputs": [],
   "source": [
    "ann.add(tf.keras.layers.Dense(units=6, activation='relu'))"
   ]
  },
  {
   "cell_type": "markdown",
   "metadata": {
    "colab_type": "text",
    "id": "jwMOmKb3AdBY"
   },
   "source": [
    "### Adding the output layer"
   ]
  },
  {
   "cell_type": "code",
   "execution_count": 8,
   "metadata": {
    "colab": {},
    "colab_type": "code",
    "id": "YFATpzsUAkLL"
   },
   "outputs": [],
   "source": [
    "ann.add(tf.keras.layers.Dense(units=1))"
   ]
  },
  {
   "cell_type": "markdown",
   "metadata": {
    "colab_type": "text",
    "id": "fq7e4fF6A1yy"
   },
   "source": [
    "## Part 3 - Training the ANN"
   ]
  },
  {
   "cell_type": "markdown",
   "metadata": {
    "colab_type": "text",
    "id": "qDeylAs2An25"
   },
   "source": [
    "### Compiling the ANN"
   ]
  },
  {
   "cell_type": "code",
   "execution_count": 9,
   "metadata": {
    "colab": {},
    "colab_type": "code",
    "id": "pesgbWlCAtB4"
   },
   "outputs": [],
   "source": [
    "ann.compile(optimizer = 'adam', loss = 'mean_squared_error')"
   ]
  },
  {
   "cell_type": "markdown",
   "metadata": {
    "colab_type": "text",
    "id": "YjVuiybYOo7r"
   },
   "source": [
    "### Training the ANN model on the Training set"
   ]
  },
  {
   "cell_type": "code",
   "execution_count": 10,
   "metadata": {
    "colab": {
     "base_uri": "https://localhost:8080/",
     "height": 1000
    },
    "colab_type": "code",
    "id": "c_vV-tiiA5zn",
    "outputId": "4a2b6ee6-ed75-4698-9069-b250e613803f"
   },
   "outputs": [
    {
     "name": "stdout",
     "output_type": "stream",
     "text": [
      "Epoch 1/100\n",
      "240/240 [==============================] - 2s 1ms/step - loss: 3547.1663\n",
      "Epoch 2/100\n",
      "240/240 [==============================] - 0s 1ms/step - loss: 412.9282\n",
      "Epoch 3/100\n",
      "240/240 [==============================] - 0s 1ms/step - loss: 377.9686\n",
      "Epoch 4/100\n",
      "240/240 [==============================] - 0s 1ms/step - loss: 338.3602\n",
      "Epoch 5/100\n",
      "240/240 [==============================] - 0s 1ms/step - loss: 295.7578\n",
      "Epoch 6/100\n",
      "240/240 [==============================] - 0s 1ms/step - loss: 253.8234\n",
      "Epoch 7/100\n",
      "240/240 [==============================] - 0s 1ms/step - loss: 213.2839\n",
      "Epoch 8/100\n",
      "240/240 [==============================] - 0s 1ms/step - loss: 176.3914\n",
      "Epoch 9/100\n",
      "240/240 [==============================] - 0s 1ms/step - loss: 144.0149\n",
      "Epoch 10/100\n",
      "240/240 [==============================] - 0s 1ms/step - loss: 115.4127\n",
      "Epoch 11/100\n",
      "240/240 [==============================] - 0s 1ms/step - loss: 92.7270\n",
      "Epoch 12/100\n",
      "240/240 [==============================] - 0s 1ms/step - loss: 74.9002\n",
      "Epoch 13/100\n",
      "240/240 [==============================] - 0s 1ms/step - loss: 61.4481\n",
      "Epoch 14/100\n",
      "240/240 [==============================] - 0s 1ms/step - loss: 51.9366\n",
      "Epoch 15/100\n",
      "240/240 [==============================] - 0s 1ms/step - loss: 45.7798\n",
      "Epoch 16/100\n",
      "240/240 [==============================] - 0s 1ms/step - loss: 41.7616\n",
      "Epoch 17/100\n",
      "240/240 [==============================] - 0s 1ms/step - loss: 39.2696\n",
      "Epoch 18/100\n",
      "240/240 [==============================] - 0s 1ms/step - loss: 37.2719\n",
      "Epoch 19/100\n",
      "240/240 [==============================] - 0s 1ms/step - loss: 36.0524\n",
      "Epoch 20/100\n",
      "240/240 [==============================] - 0s 1ms/step - loss: 35.2690\n",
      "Epoch 21/100\n",
      "240/240 [==============================] - 0s 1ms/step - loss: 34.2252\n",
      "Epoch 22/100\n",
      "240/240 [==============================] - 0s 1ms/step - loss: 33.8083\n",
      "Epoch 23/100\n",
      "240/240 [==============================] - 0s 1ms/step - loss: 33.3081\n",
      "Epoch 24/100\n",
      "240/240 [==============================] - 0s 1ms/step - loss: 32.7080\n",
      "Epoch 25/100\n",
      "240/240 [==============================] - 0s 1ms/step - loss: 32.6652\n",
      "Epoch 26/100\n",
      "240/240 [==============================] - 0s 1ms/step - loss: 32.0087\n",
      "Epoch 27/100\n",
      "240/240 [==============================] - 0s 1ms/step - loss: 30.9800\n",
      "Epoch 28/100\n",
      "240/240 [==============================] - 0s 2ms/step - loss: 31.5827\n",
      "Epoch 29/100\n",
      "240/240 [==============================] - 0s 2ms/step - loss: 30.4960\n",
      "Epoch 30/100\n",
      "240/240 [==============================] - 1s 2ms/step - loss: 29.7861\n",
      "Epoch 31/100\n",
      "240/240 [==============================] - 0s 2ms/step - loss: 29.8252\n",
      "Epoch 32/100\n",
      "240/240 [==============================] - 0s 2ms/step - loss: 29.2112\n",
      "Epoch 33/100\n",
      "240/240 [==============================] - 0s 2ms/step - loss: 29.7374\n",
      "Epoch 34/100\n",
      "240/240 [==============================] - 0s 2ms/step - loss: 29.1211\n",
      "Epoch 35/100\n",
      "240/240 [==============================] - 0s 2ms/step - loss: 28.7486\n",
      "Epoch 36/100\n",
      "240/240 [==============================] - 1s 2ms/step - loss: 28.6787\n",
      "Epoch 37/100\n",
      "240/240 [==============================] - 0s 2ms/step - loss: 28.0341\n",
      "Epoch 38/100\n",
      "240/240 [==============================] - 0s 1ms/step - loss: 28.1614\n",
      "Epoch 39/100\n",
      "240/240 [==============================] - 0s 1ms/step - loss: 27.6870\n",
      "Epoch 40/100\n",
      "240/240 [==============================] - 0s 1ms/step - loss: 28.3236\n",
      "Epoch 41/100\n",
      "240/240 [==============================] - 0s 1ms/step - loss: 27.6865\n",
      "Epoch 42/100\n",
      "240/240 [==============================] - 0s 1ms/step - loss: 27.3105\n",
      "Epoch 43/100\n",
      "240/240 [==============================] - 0s 1ms/step - loss: 27.2929\n",
      "Epoch 44/100\n",
      "240/240 [==============================] - 0s 2ms/step - loss: 27.3021\n",
      "Epoch 45/100\n",
      "240/240 [==============================] - 0s 2ms/step - loss: 26.8770\n",
      "Epoch 46/100\n",
      "240/240 [==============================] - 0s 2ms/step - loss: 27.1831\n",
      "Epoch 47/100\n",
      "240/240 [==============================] - 0s 1ms/step - loss: 27.1475\n",
      "Epoch 48/100\n",
      "240/240 [==============================] - 0s 1ms/step - loss: 27.3312\n",
      "Epoch 49/100\n",
      "240/240 [==============================] - 0s 2ms/step - loss: 26.6318\n",
      "Epoch 50/100\n",
      "240/240 [==============================] - 0s 2ms/step - loss: 26.9346\n",
      "Epoch 51/100\n",
      "240/240 [==============================] - 0s 2ms/step - loss: 27.5379\n",
      "Epoch 52/100\n",
      "240/240 [==============================] - 0s 2ms/step - loss: 26.9862\n",
      "Epoch 53/100\n",
      "240/240 [==============================] - 0s 2ms/step - loss: 26.8091\n",
      "Epoch 54/100\n",
      "240/240 [==============================] - 0s 1ms/step - loss: 26.6236\n",
      "Epoch 55/100\n",
      "240/240 [==============================] - 0s 1ms/step - loss: 26.8261\n",
      "Epoch 56/100\n",
      "240/240 [==============================] - 0s 1ms/step - loss: 27.1086\n",
      "Epoch 57/100\n",
      "240/240 [==============================] - 0s 1ms/step - loss: 26.9374\n",
      "Epoch 58/100\n",
      "240/240 [==============================] - 0s 1ms/step - loss: 27.0328\n",
      "Epoch 59/100\n",
      "240/240 [==============================] - 0s 1ms/step - loss: 27.2027\n",
      "Epoch 60/100\n",
      "240/240 [==============================] - 0s 1ms/step - loss: 26.7314\n",
      "Epoch 61/100\n",
      "240/240 [==============================] - 0s 2ms/step - loss: 26.7834\n",
      "Epoch 62/100\n",
      "240/240 [==============================] - 0s 2ms/step - loss: 26.4967\n",
      "Epoch 63/100\n",
      "240/240 [==============================] - 0s 1ms/step - loss: 27.0074\n",
      "Epoch 64/100\n",
      "240/240 [==============================] - 0s 1ms/step - loss: 27.1068\n",
      "Epoch 65/100\n",
      "240/240 [==============================] - 0s 1ms/step - loss: 26.9211\n",
      "Epoch 66/100\n",
      "240/240 [==============================] - 0s 1ms/step - loss: 26.6646\n",
      "Epoch 67/100\n",
      "240/240 [==============================] - 0s 1ms/step - loss: 27.3638\n",
      "Epoch 68/100\n",
      "240/240 [==============================] - 0s 1ms/step - loss: 26.1881\n",
      "Epoch 69/100\n",
      "240/240 [==============================] - 0s 1ms/step - loss: 26.5747\n",
      "Epoch 70/100\n",
      "240/240 [==============================] - 0s 1ms/step - loss: 27.1955\n",
      "Epoch 71/100\n",
      "240/240 [==============================] - 0s 1ms/step - loss: 26.7070\n",
      "Epoch 72/100\n",
      "240/240 [==============================] - 0s 2ms/step - loss: 26.7714\n",
      "Epoch 73/100\n",
      "240/240 [==============================] - 0s 2ms/step - loss: 26.5921\n",
      "Epoch 74/100\n",
      "240/240 [==============================] - 0s 1ms/step - loss: 26.4553\n",
      "Epoch 75/100\n",
      "240/240 [==============================] - 0s 1ms/step - loss: 26.5209\n",
      "Epoch 76/100\n",
      "240/240 [==============================] - 0s 1ms/step - loss: 26.3267\n",
      "Epoch 77/100\n",
      "240/240 [==============================] - 0s 1ms/step - loss: 26.7553\n",
      "Epoch 78/100\n",
      "240/240 [==============================] - 0s 2ms/step - loss: 26.2854\n",
      "Epoch 79/100\n",
      "240/240 [==============================] - 0s 1ms/step - loss: 26.7058\n",
      "Epoch 80/100\n",
      "240/240 [==============================] - 0s 1ms/step - loss: 26.5306\n",
      "Epoch 81/100\n",
      "240/240 [==============================] - 0s 1ms/step - loss: 26.7563\n",
      "Epoch 82/100\n",
      "240/240 [==============================] - 0s 1ms/step - loss: 26.8021\n",
      "Epoch 83/100\n",
      "240/240 [==============================] - 0s 2ms/step - loss: 27.0648\n",
      "Epoch 84/100\n",
      "240/240 [==============================] - 0s 2ms/step - loss: 26.8627\n",
      "Epoch 85/100\n",
      "240/240 [==============================] - 0s 2ms/step - loss: 26.4653\n",
      "Epoch 86/100\n",
      "240/240 [==============================] - 0s 2ms/step - loss: 26.7303\n",
      "Epoch 87/100\n",
      "240/240 [==============================] - 0s 1ms/step - loss: 27.2507\n",
      "Epoch 88/100\n",
      "240/240 [==============================] - 0s 1ms/step - loss: 26.4377\n",
      "Epoch 89/100\n",
      "240/240 [==============================] - 0s 2ms/step - loss: 26.7828\n",
      "Epoch 90/100\n",
      "240/240 [==============================] - 0s 2ms/step - loss: 26.9204\n",
      "Epoch 91/100\n",
      "240/240 [==============================] - 0s 1ms/step - loss: 26.5414\n",
      "Epoch 92/100\n",
      "240/240 [==============================] - 1s 2ms/step - loss: 26.4751\n",
      "Epoch 93/100\n",
      "240/240 [==============================] - 0s 2ms/step - loss: 26.6986\n",
      "Epoch 94/100\n",
      "240/240 [==============================] - 0s 2ms/step - loss: 26.4915\n",
      "Epoch 95/100\n",
      "240/240 [==============================] - 0s 1ms/step - loss: 26.6052\n",
      "Epoch 96/100\n",
      "240/240 [==============================] - 0s 1ms/step - loss: 26.4236\n",
      "Epoch 97/100\n",
      "240/240 [==============================] - 0s 1ms/step - loss: 27.0224\n",
      "Epoch 98/100\n",
      "240/240 [==============================] - 0s 1ms/step - loss: 26.6332\n",
      "Epoch 99/100\n",
      "240/240 [==============================] - 0s 1ms/step - loss: 26.4265\n",
      "Epoch 100/100\n",
      "240/240 [==============================] - 0s 2ms/step - loss: 26.5092\n"
     ]
    },
    {
     "data": {
      "text/plain": [
       "<keras.callbacks.History at 0x2811d83cbe0>"
      ]
     },
     "execution_count": 10,
     "metadata": {},
     "output_type": "execute_result"
    }
   ],
   "source": [
    "ann.fit(X_train, y_train, batch_size = 32, epochs = 100)"
   ]
  },
  {
   "cell_type": "markdown",
   "metadata": {
    "colab_type": "text",
    "id": "0H0zKKNEBLD5"
   },
   "source": [
    "### Predicting the results of the Test set"
   ]
  },
  {
   "cell_type": "code",
   "execution_count": 11,
   "metadata": {
    "colab": {
     "base_uri": "https://localhost:8080/",
     "height": 134
    },
    "colab_type": "code",
    "id": "IA0yApEmBG1X",
    "outputId": "cb981e1f-9204-4a2a-fece-9d66a6919189"
   },
   "outputs": [
    {
     "name": "stdout",
     "output_type": "stream",
     "text": [
      "60/60 [==============================] - 0s 2ms/step\n",
      "[[429.17 431.23]\n",
      " [460.18 460.01]\n",
      " [463.68 461.14]\n",
      " ...\n",
      " [470.9  473.26]\n",
      " [437.77 438.  ]\n",
      " [456.95 463.28]]\n"
     ]
    }
   ],
   "source": [
    "y_pred = ann.predict(X_test)\n",
    "np.set_printoptions(precision=2)\n",
    "print(np.concatenate((y_pred.reshape(len(y_pred),1), y_test.reshape(len(y_test),1)),1))"
   ]
  }
 ],
 "metadata": {
  "colab": {
   "collapsed_sections": [],
   "name": "Artificial Neural Network",
   "provenance": [],
   "toc_visible": true
  },
  "kernelspec": {
   "display_name": "Python 3 (ipykernel)",
   "language": "python",
   "name": "python3"
  },
  "language_info": {
   "codemirror_mode": {
    "name": "ipython",
    "version": 3
   },
   "file_extension": ".py",
   "mimetype": "text/x-python",
   "name": "python",
   "nbconvert_exporter": "python",
   "pygments_lexer": "ipython3",
   "version": "3.9.12"
  }
 },
 "nbformat": 4,
 "nbformat_minor": 4
}
